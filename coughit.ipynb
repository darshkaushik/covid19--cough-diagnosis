{
  "nbformat": 4,
  "nbformat_minor": 0,
  "metadata": {
    "colab": {
      "name": "coughit.ipynb",
      "provenance": [],
      "collapsed_sections": [],
      "toc_visible": true
    },
    "kernelspec": {
      "name": "python3",
      "display_name": "Python 3"
    },
    "accelerator": "GPU"
  },
  "cells": [
    {
      "cell_type": "code",
      "metadata": {
        "id": "iKTM4QzPSEZM",
        "colab": {
          "base_uri": "https://localhost:8080/"
        },
        "outputId": "1202a608-0554-4df1-fe7f-1163a9254efd"
      },
      "source": [
        "from google.colab import drive\n",
        "drive.mount('/content/gdrive')\n"
      ],
      "execution_count": null,
      "outputs": [
        {
          "output_type": "stream",
          "name": "stdout",
          "text": [
            "Mounted at /content/gdrive\n"
          ]
        }
      ]
    },
    {
      "cell_type": "code",
      "metadata": {
        "id": "YVDDi4NR3EuB"
      },
      "source": [
        "!pip install tensorflow==2.4.3"
      ],
      "execution_count": null,
      "outputs": []
    },
    {
      "cell_type": "code",
      "source": [
        "!pip install scikeras"
      ],
      "metadata": {
        "colab": {
          "base_uri": "https://localhost:8080/"
        },
        "id": "n_UeqsszOY0L",
        "outputId": "6d0bbee6-cc6a-44d9-d815-aebd6f683733"
      },
      "execution_count": null,
      "outputs": [
        {
          "output_type": "stream",
          "name": "stdout",
          "text": [
            "Collecting scikeras\n",
            "  Downloading scikeras-0.6.0-py3-none-any.whl (27 kB)\n",
            "Requirement already satisfied: packaging<22.0,>=0.21 in /usr/local/lib/python3.7/dist-packages (from scikeras) (21.3)\n",
            "Requirement already satisfied: scikit-learn>=1.0.0 in /usr/local/lib/python3.7/dist-packages (from scikeras) (1.0.1)\n",
            "Collecting importlib-metadata<4,>=3\n",
            "  Downloading importlib_metadata-3.10.1-py3-none-any.whl (14 kB)\n",
            "Requirement already satisfied: zipp>=0.5 in /usr/local/lib/python3.7/dist-packages (from importlib-metadata<4,>=3->scikeras) (3.6.0)\n",
            "Requirement already satisfied: typing-extensions>=3.6.4 in /usr/local/lib/python3.7/dist-packages (from importlib-metadata<4,>=3->scikeras) (3.10.0.2)\n",
            "Requirement already satisfied: pyparsing!=3.0.5,>=2.0.2 in /usr/local/lib/python3.7/dist-packages (from packaging<22.0,>=0.21->scikeras) (3.0.6)\n",
            "Requirement already satisfied: joblib>=0.11 in /usr/local/lib/python3.7/dist-packages (from scikit-learn>=1.0.0->scikeras) (1.1.0)\n",
            "Requirement already satisfied: numpy>=1.14.6 in /usr/local/lib/python3.7/dist-packages (from scikit-learn>=1.0.0->scikeras) (1.19.5)\n",
            "Requirement already satisfied: scipy>=1.1.0 in /usr/local/lib/python3.7/dist-packages (from scikit-learn>=1.0.0->scikeras) (1.4.1)\n",
            "Requirement already satisfied: threadpoolctl>=2.0.0 in /usr/local/lib/python3.7/dist-packages (from scikit-learn>=1.0.0->scikeras) (3.0.0)\n",
            "Installing collected packages: importlib-metadata, scikeras\n",
            "  Attempting uninstall: importlib-metadata\n",
            "    Found existing installation: importlib-metadata 4.8.2\n",
            "    Uninstalling importlib-metadata-4.8.2:\n",
            "      Successfully uninstalled importlib-metadata-4.8.2\n",
            "\u001b[31mERROR: pip's dependency resolver does not currently take into account all the packages that are installed. This behaviour is the source of the following dependency conflicts.\n",
            "markdown 3.3.6 requires importlib-metadata>=4.4; python_version < \"3.10\", but you have importlib-metadata 3.10.1 which is incompatible.\u001b[0m\n",
            "Successfully installed importlib-metadata-3.10.1 scikeras-0.6.0\n"
          ]
        }
      ]
    },
    {
      "cell_type": "code",
      "metadata": {
        "id": "wAX7vm8I3Gsf",
        "colab": {
          "base_uri": "https://localhost:8080/",
          "height": 35
        },
        "outputId": "74179819-818d-405a-8c8c-d246c697c0d7"
      },
      "source": [
        "import tensorflow\n",
        "tensorflow.__version__"
      ],
      "execution_count": null,
      "outputs": [
        {
          "output_type": "execute_result",
          "data": {
            "application/vnd.google.colaboratory.intrinsic+json": {
              "type": "string"
            },
            "text/plain": [
              "'2.4.3'"
            ]
          },
          "metadata": {},
          "execution_count": 7
        }
      ]
    },
    {
      "cell_type": "code",
      "metadata": {
        "id": "vAVMJgUfSw1L"
      },
      "source": [
        "import pandas as pd\n",
        "import numpy as np\n",
        "import json\n",
        "\n",
        "import librosa\n",
        "from tensorflow import keras\n",
        "from tensorflow.keras.layers import Conv2D, Dense, Dropout, Flatten, MaxPooling2D, GlobalAveragePooling2D, BatchNormalization\n",
        "from tensorflow.keras.models import Sequential, load_model\n",
        "from tensorflow.keras.optimizers import Adam\n",
        "from tensorflow.keras import regularizers\n",
        "from sklearn.model_selection import StratifiedKFold\n",
        "from sklearn.model_selection import cross_val_score\n",
        "# from tensorflow.keras.wrappers.scikit_learn import KerasClassifier\n",
        "from scikeras.wrappers import KerasClassifier\n",
        "\n",
        "import matplotlib.pyplot as plt"
      ],
      "execution_count": null,
      "outputs": []
    },
    {
      "cell_type": "code",
      "metadata": {
        "id": "b2hltRAkS5Jv"
      },
      "source": [
        "data_path = '/content/gdrive/MyDrive/COVID_cough/mfcc15_data_audiomentations.json'\n",
        "test_data_path = '/content/gdrive/MyDrive/mfcc15_blind_set.json'\n",
        "test_metadata_path = '/content/gdrive/MyDrive/COVID_cough/test_metadata.csv'"
      ],
      "execution_count": null,
      "outputs": []
    },
    {
      "cell_type": "code",
      "metadata": {
        "id": "cJ97cKAyS9CT"
      },
      "source": [
        "with open(data_path, \"r\") as fp:\n",
        "    data = json.load(fp)\n",
        "        "
      ],
      "execution_count": null,
      "outputs": []
    },
    {
      "cell_type": "code",
      "metadata": {
        "id": "RPHixARfS-lA"
      },
      "source": [
        "X = np.array(data[\"mfcc\"])\n",
        "y = np.array(data[\"label\"])"
      ],
      "execution_count": null,
      "outputs": []
    },
    {
      "cell_type": "code",
      "metadata": {
        "colab": {
          "base_uri": "https://localhost:8080/"
        },
        "id": "oqzOK737TBYx",
        "outputId": "865ac08f-e4fc-4f27-fb93-b8fa460b4a83"
      },
      "source": [
        "print(X.shape)\n",
        "print(y.shape)"
      ],
      "execution_count": null,
      "outputs": [
        {
          "output_type": "stream",
          "name": "stdout",
          "text": [
            "(1280, 302, 15)\n",
            "(1280,)\n"
          ]
        }
      ]
    },
    {
      "cell_type": "code",
      "metadata": {
        "id": "Le8X8E-1VGKf"
      },
      "source": [
        "X=X.reshape(X.shape[0],-1,15,1)"
      ],
      "execution_count": null,
      "outputs": []
    },
    {
      "cell_type": "code",
      "metadata": {
        "colab": {
          "base_uri": "https://localhost:8080/"
        },
        "id": "nnSX6DdNS7jD",
        "outputId": "e8bce857-6392-4c50-8dd2-132931833ef2"
      },
      "source": [
        "print(X.shape)\n",
        "print(y.shape)"
      ],
      "execution_count": null,
      "outputs": [
        {
          "output_type": "stream",
          "name": "stdout",
          "text": [
            "(1280, 302, 15, 1)\n",
            "(1280,)\n"
          ]
        }
      ]
    },
    {
      "cell_type": "code",
      "metadata": {
        "id": "5RfAZhjsXOvt"
      },
      "source": [
        "# https://www.kite.com/python/answers/how-to-serialize-a-numpy-array-into-json-in-python\n",
        "X[0].tolist()"
      ],
      "execution_count": null,
      "outputs": []
    },
    {
      "cell_type": "code",
      "metadata": {
        "id": "TLhg2t-DTGBP"
      },
      "source": [
        "def create_model():\n",
        "    model=Sequential()\n",
        "\n",
        "    model.add(Conv2D(filters=64,kernel_size=(3,3),input_shape=(302,15,1),activation='relu'))\n",
        "    model.add(MaxPooling2D(pool_size=(2,2)))\n",
        "    model.add(Conv2D(filters=32,kernel_size=(2,2),activation='relu'))\n",
        "    model.add(BatchNormalization())\n",
        "    model.add(Flatten())\n",
        "\n",
        "    model.add(Dense(256,activation='relu',kernel_regularizer=regularizers.l1_l2(l1=3e-4, l2=3e-3),bias_regularizer=regularizers.l2(3e-3),activity_regularizer=regularizers.l2(3e-4)))\n",
        "    model.add(Dropout(0.5))\n",
        "    model.add(Dense(128,activation='relu',kernel_regularizer=regularizers.l1_l2(l1=1e-3, l2=1e-2),bias_regularizer=regularizers.l2(1e-2),activity_regularizer=regularizers.l2(1e-3)))\n",
        "    model.add(Dropout(0.3))\n",
        "    model.add(Dense(1,activation='sigmoid'))\n",
        "\n",
        "    model.compile(optimizer=keras.optimizers.Adam(learning_rate=0.0001), loss='binary_crossentropy', metrics=['accuracy'])\n",
        "    return model"
      ],
      "execution_count": null,
      "outputs": []
    },
    {
      "cell_type": "code",
      "source": [
        "# model_cv = KerasClassifier(build_fn=create_model, epochs=200, batch_size=32)\n",
        "# model_cv_200 = KerasClassifier(build_fn=create_model, epochs=200, batch_size=32)\n",
        "model_cv_20 = KerasClassifier(build_fn=create_model, epochs=20, batch_size=32)\n",
        "kfold = StratifiedKFold(n_splits=5, shuffle=True, random_state=7)\n",
        "# scores_200 = cross_val_score(model_cv_200, X, y, cv= kfold, n_jobs=-1)\n",
        "scores_20 = cross_val_score(model_cv_20, X, y, cv= kfold, n_jobs=-1)\n",
        "# scores_200, \n",
        "scores_20"
      ],
      "metadata": {
        "colab": {
          "base_uri": "https://localhost:8080/"
        },
        "id": "4Bbp3HDuPTCc",
        "outputId": "5494a2a2-0927-470b-ba34-224d780fbc14"
      },
      "execution_count": null,
      "outputs": [
        {
          "output_type": "execute_result",
          "data": {
            "text/plain": [
              "array([0.8828125 , 0.8984375 , 0.92578125, 0.92578125, 0.87890625])"
            ]
          },
          "metadata": {},
          "execution_count": 14
        }
      ]
    },
    {
      "cell_type": "code",
      "source": [
        "# model_200 = create_model()\n",
        "# model_200.fit(X, y, epochs=200, batch_size=32)\n",
        "model_200 = load_model('/content/gdrive/MyDrive/cough-correct-model.h5')"
      ],
      "metadata": {
        "id": "0yp6OXy7S1rT"
      },
      "execution_count": null,
      "outputs": []
    },
    {
      "cell_type": "code",
      "source": [
        "model_20 = create_model()\n",
        "model_20.fit(X, y, epochs=20, batch_size=32)"
      ],
      "metadata": {
        "colab": {
          "base_uri": "https://localhost:8080/"
        },
        "id": "w0gmgp9VdyII",
        "outputId": "4ba1716a-11ea-4353-f95c-87597516efc2"
      },
      "execution_count": null,
      "outputs": [
        {
          "output_type": "stream",
          "name": "stdout",
          "text": [
            "Epoch 1/20\n",
            "40/40 [==============================] - 4s 19ms/step - loss: 19.5791 - accuracy: 0.7102\n",
            "Epoch 2/20\n",
            "40/40 [==============================] - 1s 18ms/step - loss: 17.2598 - accuracy: 0.7820\n",
            "Epoch 3/20\n",
            "40/40 [==============================] - 1s 18ms/step - loss: 15.0280 - accuracy: 0.8180\n",
            "Epoch 4/20\n",
            "40/40 [==============================] - 1s 18ms/step - loss: 12.9902 - accuracy: 0.8727\n",
            "Epoch 5/20\n",
            "40/40 [==============================] - 1s 18ms/step - loss: 11.2393 - accuracy: 0.9117\n",
            "Epoch 6/20\n",
            "40/40 [==============================] - 1s 18ms/step - loss: 9.7731 - accuracy: 0.9414\n",
            "Epoch 7/20\n",
            "40/40 [==============================] - 1s 18ms/step - loss: 8.5199 - accuracy: 0.9531\n",
            "Epoch 8/20\n",
            "40/40 [==============================] - 1s 18ms/step - loss: 7.4788 - accuracy: 0.9750\n",
            "Epoch 9/20\n",
            "40/40 [==============================] - 1s 18ms/step - loss: 6.6042 - accuracy: 0.9844\n",
            "Epoch 10/20\n",
            "40/40 [==============================] - 1s 18ms/step - loss: 5.8449 - accuracy: 0.9812\n",
            "Epoch 11/20\n",
            "40/40 [==============================] - 1s 18ms/step - loss: 5.2126 - accuracy: 0.9898\n",
            "Epoch 12/20\n",
            "40/40 [==============================] - 1s 18ms/step - loss: 4.6535 - accuracy: 0.9961\n",
            "Epoch 13/20\n",
            "40/40 [==============================] - 1s 18ms/step - loss: 4.1675 - accuracy: 0.9977\n",
            "Epoch 14/20\n",
            "40/40 [==============================] - 1s 18ms/step - loss: 3.7555 - accuracy: 0.9969\n",
            "Epoch 15/20\n",
            "40/40 [==============================] - 1s 18ms/step - loss: 3.3881 - accuracy: 0.9969\n",
            "Epoch 16/20\n",
            "40/40 [==============================] - 1s 18ms/step - loss: 3.0806 - accuracy: 0.9961\n",
            "Epoch 17/20\n",
            "40/40 [==============================] - 1s 18ms/step - loss: 2.7973 - accuracy: 0.9984\n",
            "Epoch 18/20\n",
            "40/40 [==============================] - 1s 18ms/step - loss: 2.5538 - accuracy: 0.9953\n",
            "Epoch 19/20\n",
            "40/40 [==============================] - 1s 18ms/step - loss: 2.3161 - accuracy: 0.9984\n",
            "Epoch 20/20\n",
            "40/40 [==============================] - 1s 18ms/step - loss: 2.1104 - accuracy: 0.9984\n"
          ]
        },
        {
          "output_type": "execute_result",
          "data": {
            "text/plain": [
              "<keras.callbacks.History at 0x7f4110515c90>"
            ]
          },
          "metadata": {},
          "execution_count": 17
        }
      ]
    },
    {
      "cell_type": "code",
      "metadata": {
        "id": "j9ha5D0B72AQ"
      },
      "source": [
        "fold_dict={}\n",
        "fold_dict['y_test']=y[test]"
      ],
      "execution_count": null,
      "outputs": []
    },
    {
      "cell_type": "code",
      "metadata": {
        "colab": {
          "base_uri": "https://localhost:8080/"
        },
        "id": "di83ws32TMud",
        "outputId": "6922c275-02cd-4253-ed90-9446af78c546"
      },
      "source": [
        "from sklearn.model_selection import StratifiedKFold\n",
        "\n",
        "kfold = StratifiedKFold(n_splits=5, shuffle=True, random_state=7)\n",
        "\n",
        "pred_folds_list=[]\n",
        "\n",
        "cvscores = []\n",
        "for train, test in kfold.split(X, y):\n",
        "    modell=Sequential()\n",
        "\n",
        "    modell.add(Conv2D(filters=64,kernel_size=(3,3),input_shape=(302,15,1),activation='relu'))\n",
        "    modell.add(MaxPooling2D(pool_size=(2,2)))\n",
        "    modell.add(Conv2D(filters=32,kernel_size=(2,2),activation='relu'))\n",
        "    modell.add(BatchNormalization())\n",
        "    modell.add(Flatten())\n",
        "\n",
        "    modell.add(Dense(256,activation='relu',kernel_regularizer=regularizers.l1_l2(l1=3e-4, l2=3e-3),bias_regularizer=regularizers.l2(3e-3),activity_regularizer=regularizers.l2(3e-4)))\n",
        "    modell.add(Dropout(0.5))\n",
        "    modell.add(Dense(128,activation='relu',kernel_regularizer=regularizers.l1_l2(l1=1e-3, l2=1e-2),bias_regularizer=regularizers.l2(1e-2),activity_regularizer=regularizers.l2(1e-3)))\n",
        "    modell.add(Dropout(0.3))\n",
        "    modell.add(Dense(1,activation='sigmoid'))\n",
        "\n",
        "    modell.compile(optimizer=optimiser,\n",
        "                  loss='binary_crossentropy',\n",
        "                  metrics=['accuracy'])\n",
        "\n",
        "    fold_dict=dict()\n",
        "    modell.fit(X[train], y[train], epochs=200, batch_size=32, verbose=0)\n",
        "    # evaluate the model\n",
        "    scores = modell.evaluate( X[test], y[test], verbose=0)\n",
        "    fold_dict['y_test']=y[test]\n",
        "    fold_dict['y_pred']=modell.predict(X[test])\n",
        "    pred_folds_list.append(fold_dict)\n",
        "    \n",
        "    print(\"%s: %.2f%%\" % (modell.metrics_names[1], scores[1]*100))\n",
        "    cvscores.append(scores[1] * 100)\n",
        " \n"
      ],
      "execution_count": null,
      "outputs": [
        {
          "output_type": "stream",
          "name": "stdout",
          "text": [
            "accuracy: 87.50%\n",
            "accuracy: 89.84%\n",
            "accuracy: 91.02%\n",
            "accuracy: 90.23%\n",
            "accuracy: 91.41%\n"
          ]
        }
      ]
    },
    {
      "cell_type": "code",
      "metadata": {
        "colab": {
          "base_uri": "https://localhost:8080/"
        },
        "id": "5Uv-ufURUvNe",
        "outputId": "66b0abf8-962d-4210-a209-66ed3ca23449"
      },
      "source": [
        "\n",
        "print(\"%.2f%% (+/- %.2f%%)\" % (np.mean(cvscores), np.std(cvscores)))"
      ],
      "execution_count": null,
      "outputs": [
        {
          "output_type": "stream",
          "name": "stdout",
          "text": [
            "92.66% (+/- 4.22%)\n"
          ]
        }
      ]
    },
    {
      "cell_type": "markdown",
      "metadata": {
        "id": "o9YvxineUQgf"
      },
      "source": [
        " history = model.fit(X, y, batch_size=32, epochs=150)"
      ]
    },
    {
      "cell_type": "markdown",
      "source": [
        "# blind "
      ],
      "metadata": {
        "id": "9hby9cIMYJP7"
      }
    },
    {
      "cell_type": "code",
      "metadata": {
        "colab": {
          "base_uri": "https://localhost:8080/"
        },
        "id": "F1kQkl1I2Gdt",
        "outputId": "3df871bf-cb5b-419e-8495-7c44294a03a5"
      },
      "source": [
        "with open(test_data_path, \"r\") as fp:\n",
        "    test_data = json.load(fp)\n",
        "test_data.keys()"
      ],
      "execution_count": null,
      "outputs": [
        {
          "output_type": "execute_result",
          "data": {
            "text/plain": [
              "dict_keys(['mfcc'])"
            ]
          },
          "metadata": {},
          "execution_count": 20
        }
      ]
    },
    {
      "cell_type": "code",
      "source": [
        "X_blind = np.array(test_data[\"mfcc\"])\n",
        "X_blind =X_blind.reshape(X_blind.shape[0],-1,15,1)\n",
        "print(X_blind.shape)\n"
      ],
      "metadata": {
        "colab": {
          "base_uri": "https://localhost:8080/"
        },
        "id": "zJQy4kuN3HJd",
        "outputId": "88a3c1da-efb9-46a8-b65e-338d412f5582"
      },
      "execution_count": null,
      "outputs": [
        {
          "output_type": "stream",
          "name": "stdout",
          "text": [
            "(233, 302, 15, 1)\n"
          ]
        }
      ]
    },
    {
      "cell_type": "code",
      "source": [
        "y_blind=model_200.predict(X_blind)\n",
        "# y_blind=model_20.predict(X_blind)\n",
        "y_blind=list(y_blind.reshape(-1))\n",
        "y_blind"
      ],
      "metadata": {
        "id": "U6tTVyJJ3R5C"
      },
      "execution_count": null,
      "outputs": []
    },
    {
      "cell_type": "code",
      "source": [
        "df=pd.read_csv(test_metadata_path)\n",
        "df"
      ],
      "metadata": {
        "id": "cjPLnEd3ZeG1"
      },
      "execution_count": null,
      "outputs": []
    },
    {
      "cell_type": "code",
      "metadata": {
        "id": "iV1ebG6-Abnu"
      },
      "source": [
        "dicto={'File_name':list(df['File_name']),'Probability':y_blind}\n",
        "results=pd.DataFrame(dicto)\n",
        "results.to_csv( '/content/gdrive/MyDrive/Blind_Set_results_200.csv',index=False, header=False)\n",
        "# results.to_csv( '/content/gdrive/MyDrive/Blind_Set_results_20.csv',index=False, header=False)"
      ],
      "execution_count": null,
      "outputs": []
    },
    {
      "cell_type": "code",
      "metadata": {
        "id": "_ND56O_kVb9_"
      },
      "source": [
        "model_20.save('/content/gdrive/MyDrive/cough-correct-model_20.h5')\n",
        "# model_200.save('/content/gdrive/MyDrive/cough-correct-model.h5')\n",
        "\n",
        "# !tar -zcvf cough-it-model.tgz cough-it-model.h5"
      ],
      "execution_count": null,
      "outputs": []
    },
    {
      "cell_type": "code",
      "metadata": {
        "id": "Yc3dmofx_vyV"
      },
      "source": [
        "!cp ./gdrive/MyDrive/COVID_cough/models/cough-it-model.h5 ./cough-it-model.h5 "
      ],
      "execution_count": null,
      "outputs": []
    },
    {
      "cell_type": "code",
      "metadata": {
        "id": "EjujcgyIt9dD"
      },
      "source": [
        "from keras.models import load_model\n",
        "\n",
        "model=load_model('/content/gdrive/MyDrive/COVID_cough/models/FULLcnn_mfcc15audiomentations.h5')"
      ],
      "execution_count": null,
      "outputs": []
    },
    {
      "cell_type": "code",
      "metadata": {
        "id": "I7MU-GMFUbFe"
      },
      "source": [
        "y_pred=model.predict(X_test)"
      ],
      "execution_count": null,
      "outputs": []
    },
    {
      "cell_type": "code",
      "metadata": {
        "id": "O80XL6-F5dEr"
      },
      "source": [
        "from sklearn.metrics import confusion_matrix, roc_auc_score, roc_curve\n",
        "\n",
        "fpr, tpr, thresholds = roc_curve(y_test, y_pred)"
      ],
      "execution_count": null,
      "outputs": []
    },
    {
      "cell_type": "code",
      "metadata": {
        "colab": {
          "base_uri": "https://localhost:8080/",
          "height": 282
        },
        "id": "zSMv8nY4I54t",
        "outputId": "6c371795-1f5c-4814-aa28-c4bdcd3ebd5e"
      },
      "source": [
        "sum_tests=0\n",
        "sum_preds=0\n",
        "\n",
        "for idx,item in enumerate(pred_folds_list):\n",
        "  sum_tests+=item['y_test']\n",
        "  sum_preds+=item['y_pred']\n",
        "\n",
        "avg_tests=sum_tests/len(pred_folds_list)\n",
        "avg_preds=sum_preds/len(pred_folds_list)\n",
        "\n",
        "fpr, tpr, thresholds = roc_curve(avg_tests, avg_preds)\n",
        "plt.plot(fpr, tpr, linestyle='--')"
      ],
      "execution_count": null,
      "outputs": [
        {
          "output_type": "execute_result",
          "data": {
            "text/plain": [
              "[<matplotlib.lines.Line2D at 0x7fdb96096e50>]"
            ]
          },
          "metadata": {
            "tags": []
          },
          "execution_count": 109
        },
        {
          "output_type": "display_data",
          "data": {
            "image/png": "[encoded data removed]",
            "text/plain": [
              "<Figure size 432x288 with 1 Axes>"
            ]
          },
          "metadata": {
            "tags": [],
            "needs_background": "light"
          }
        }
      ]
    },
    {
      "cell_type": "code",
      "metadata": {
        "colab": {
          "base_uri": "https://localhost:8080/",
          "height": 265
        },
        "id": "C8zqyMzRAAew",
        "outputId": "a851bccf-8f2b-4ae7-ad25-dd234e721b47"
      },
      "source": [
        "fpr_list=[]\n",
        "tpr_list=[]\n",
        "\n",
        "for idx,item in enumerate(pred_folds_list):\n",
        "  \n",
        "  fpr, tpr, thresholds = roc_curve(item['y_test'], item['y_pred'])\n",
        "  fpr_list.append(fpr)\n",
        "  tpr_list.append(tpr)\n",
        "\n",
        "  plt.plot(fpr, tpr, linestyle='--')\n",
        "\n",
        "\n",
        "\n",
        "  \n",
        "\n",
        "plt.show()"
      ],
      "execution_count": null,
      "outputs": [
        {
          "output_type": "display_data",
          "data": {
            "image/png": "[encoded data removed]",
            "text/plain": [
              "<Figure size 432x288 with 1 Axes>"
            ]
          },
          "metadata": {
            "tags": [],
            "needs_background": "light"
          }
        }
      ]
    },
    {
      "cell_type": "code",
      "metadata": {
        "colab": {
          "base_uri": "https://localhost:8080/",
          "height": 282
        },
        "id": "7i71ezaK5oih",
        "outputId": "a464fd58-5c0c-466f-e822-938526a1c470"
      },
      "source": [
        "plt.plot(fpr, tpr, linestyle='--')"
      ],
      "execution_count": null,
      "outputs": [
        {
          "output_type": "execute_result",
          "data": {
            "text/plain": [
              "[<matplotlib.lines.Line2D at 0x7fdcb982dd90>]"
            ]
          },
          "metadata": {
            "tags": []
          },
          "execution_count": 23
        },
        {
          "output_type": "display_data",
          "data": {
            "image/png": "[encoded data removed]",
            "text/plain": [
              "<Figure size 432x288 with 1 Axes>"
            ]
          },
          "metadata": {
            "tags": [],
            "needs_background": "light"
          }
        }
      ]
    },
    {
      "cell_type": "code",
      "metadata": {
        "colab": {
          "base_uri": "https://localhost:8080/"
        },
        "id": "SAy-SCNkU0ea",
        "outputId": "4157cacc-d1f3-4204-93b7-f99093b6e5c8"
      },
      "source": [
        "\n",
        "\n",
        "auc = roc_auc_score(y_test, y_pred)\n",
        "print('AUC: %.3f' % auc)"
      ],
      "execution_count": null,
      "outputs": [
        {
          "output_type": "stream",
          "text": [
            "AUC: 1.000\n"
          ],
          "name": "stdout"
        }
      ]
    },
    {
      "cell_type": "code",
      "metadata": {
        "id": "BZ1W-NjkVfGP"
      },
      "source": [
        "#model.save('cnn_auc888.h5',save_format='h5')"
      ],
      "execution_count": null,
      "outputs": []
    },
    {
      "cell_type": "code",
      "metadata": {
        "id": "_06wFDwp9YE3"
      },
      "source": [
        "#Lmodel=load_model('cnn_auc888.h5')"
      ],
      "execution_count": null,
      "outputs": []
    },
    {
      "cell_type": "code",
      "metadata": {
        "colab": {
          "base_uri": "https://localhost:8080/"
        },
        "id": "R-vQk5adXxL5",
        "outputId": "7615dd7b-c82c-4b5e-9d6e-04fefdc3f370"
      },
      "source": [
        "y_test"
      ],
      "execution_count": null,
      "outputs": [
        {
          "output_type": "execute_result",
          "data": {
            "text/plain": [
              "array([0, 0, 0, 0, 1, 0, 0, 0, 1, 0, 0, 0, 0, 0, 1, 0, 1, 1, 0, 0, 0, 0,\n",
              "       0, 0, 0, 0, 1, 0, 1, 0, 1, 0, 0, 1, 0, 0, 1, 1, 0, 0, 0, 0, 1, 0,\n",
              "       0, 1, 1, 0, 1, 0, 0, 0, 0, 0, 1, 0, 0, 1, 0, 1, 0, 0, 0, 0, 0, 0,\n",
              "       0, 0, 0, 0, 0, 0, 0, 0, 1, 0, 0, 0, 0, 1, 0, 0, 1, 1, 1, 0, 0, 0,\n",
              "       0, 1, 0, 1, 1, 0, 0, 0, 1, 0, 0, 0, 1, 0, 0, 0, 0, 0, 1, 0, 0, 1,\n",
              "       1, 0, 0, 1, 0, 0, 1, 0, 0, 0, 0, 0, 0, 1, 0, 1, 0, 0, 0, 0, 0, 0,\n",
              "       0, 0, 0, 0, 1, 0, 0, 0, 1, 0, 0, 0, 0, 1, 0, 1, 0, 0, 0, 1, 0, 1,\n",
              "       0, 0, 0, 0, 0, 0, 0, 0, 0, 0, 0, 1, 0, 0, 1, 0, 0, 0, 0, 0, 1, 0,\n",
              "       0, 0, 0, 0, 0, 0, 0, 0, 0, 0, 0, 0, 1, 0, 0, 1, 0, 0, 1, 0, 0, 0,\n",
              "       0, 1, 0, 0, 0, 0, 0, 1, 0, 0, 0, 1, 1, 0, 0, 0, 1, 1, 0, 0, 0, 1,\n",
              "       0, 1, 0, 1, 0, 0, 0, 1, 0, 0, 1, 0, 0, 0, 0, 0, 0, 0, 0, 0, 0, 0,\n",
              "       1, 0, 0, 0, 0, 0, 0, 0, 0, 1, 1, 1, 1, 0])"
            ]
          },
          "metadata": {
            "tags": []
          },
          "execution_count": 20
        }
      ]
    },
    {
      "cell_type": "code",
      "metadata": {
        "id": "1cRuwLF8ZUkE"
      },
      "source": [
        "y_preds=[]\n",
        "\n",
        "for i in y_pred:\n",
        "  if i >=0.4:\n",
        "    y_preds.append(1)\n",
        "  else:\n",
        "    y_preds.append(0)\n",
        "\n",
        "y_preds=np.array(y_preds)"
      ],
      "execution_count": null,
      "outputs": []
    },
    {
      "cell_type": "code",
      "metadata": {
        "colab": {
          "base_uri": "https://localhost:8080/"
        },
        "id": "rpgvWlB2aX-f",
        "outputId": "f796958b-13f8-4d8b-c17a-d523edee88ee"
      },
      "source": [
        "y_preds"
      ],
      "execution_count": null,
      "outputs": [
        {
          "output_type": "execute_result",
          "data": {
            "text/plain": [
              "array([0, 0, 0, 0, 1, 0, 0, 0, 1, 0, 0, 0, 0, 0, 0, 0, 1, 1, 0, 0, 0, 0,\n",
              "       0, 0, 0, 0, 1, 0, 1, 0, 1, 1, 0, 1, 0, 0, 1, 1, 1, 0, 0, 0, 1, 0,\n",
              "       0, 1, 1, 0, 1, 0, 0, 0, 0, 0, 1, 0, 0, 1, 0, 1, 0, 0, 0, 0, 0, 0,\n",
              "       0, 0, 0, 0, 0, 0, 0, 0, 1, 0, 0, 0, 0, 1, 0, 0, 1, 1, 1, 0, 0, 0,\n",
              "       0, 0, 0, 1, 1, 0, 0, 0, 1, 0, 0, 0, 0, 1, 0, 0, 0, 0, 1, 0, 0, 1,\n",
              "       1, 0, 0, 1, 0, 0, 1, 0, 0, 0, 0, 0, 0, 0, 0, 0, 0, 0, 0, 0, 0, 0,\n",
              "       0, 0, 1, 0, 1, 0, 0, 0, 1, 1, 0, 0, 0, 0, 0, 1, 0, 0, 0, 1, 0, 1,\n",
              "       0, 0, 0, 0, 0, 0, 0, 0, 1, 0, 1, 1, 0, 0, 0, 0, 0, 0, 0, 1, 0, 0,\n",
              "       0, 0, 0, 0, 0, 0, 0, 0, 0, 0, 0, 0, 1, 0, 0, 1, 1, 0, 0, 0, 0, 0,\n",
              "       0, 1, 0, 0, 0, 0, 0, 1, 0, 0, 0, 1, 1, 0, 0, 0, 1, 1, 0, 0, 0, 1,\n",
              "       0, 0, 0, 0, 0, 0, 0, 1, 0, 0, 1, 0, 0, 0, 0, 0, 0, 0, 0, 0, 0, 0,\n",
              "       0, 0, 0, 0, 0, 0, 0, 0, 0, 1, 1, 1, 1, 0])"
            ]
          },
          "metadata": {
            "tags": []
          },
          "execution_count": 22
        }
      ]
    },
    {
      "cell_type": "code",
      "metadata": {
        "colab": {
          "base_uri": "https://localhost:8080/"
        },
        "id": "S2n49mVEafx3",
        "outputId": "29c213da-4b75-49d4-cbec-84a21f42037d"
      },
      "source": [
        "confusion_matrix(y_test, y_preds)"
      ],
      "execution_count": null,
      "outputs": [
        {
          "output_type": "execute_result",
          "data": {
            "text/plain": [
              "array([[184,   9],\n",
              "       [ 12,  51]])"
            ]
          },
          "metadata": {
            "tags": []
          },
          "execution_count": 23
        }
      ]
    },
    {
      "cell_type": "code",
      "metadata": {
        "id": "O1Y3HOuRwH2e"
      },
      "source": [
        "model.save('/content/gdrive/MyDrive/COVID_cough/models/mfcc15audiomentations.h5',save_format='h5')"
      ],
      "execution_count": null,
      "outputs": []
    },
    {
      "cell_type": "markdown",
      "metadata": {
        "id": "fWFZx0Q0VRFY"
      },
      "source": [
        "Blind set eval"
      ]
    },
    {
      "cell_type": "code",
      "metadata": {
        "id": "p0IxRyNdVNgH"
      },
      "source": [
        "import pandas as pd"
      ],
      "execution_count": null,
      "outputs": []
    },
    {
      "cell_type": "code",
      "metadata": {
        "id": "kvQC7SmoVSwR"
      },
      "source": [
        "from keras.models import load_model\n",
        "\n",
        "model=load_model(r'/content/gdrive/MyDrive/COVID_cough/models/mfcc15audiomentations.h5')"
      ],
      "execution_count": null,
      "outputs": []
    },
    {
      "cell_type": "code",
      "metadata": {
        "id": "2A1FfWuNVWo1"
      },
      "source": [
        "df=pd.read_csv('/content/gdrive/MyDrive/COVID_cough/test_metadata.csv')"
      ],
      "execution_count": null,
      "outputs": []
    },
    {
      "cell_type": "code",
      "metadata": {
        "colab": {
          "base_uri": "https://localhost:8080/",
          "height": 402
        },
        "id": "AxaKVpqwVcmk",
        "outputId": "f2687c8d-90df-4749-e597-080e673414f7"
      },
      "source": [
        "df"
      ],
      "execution_count": null,
      "outputs": [
        {
          "output_type": "execute_result",
          "data": {
            "text/html": [
              "<div>\n",
              "<style scoped>\n",
              "    .dataframe tbody tr th:only-of-type {\n",
              "        vertical-align: middle;\n",
              "    }\n",
              "\n",
              "    .dataframe tbody tr th {\n",
              "        vertical-align: top;\n",
              "    }\n",
              "\n",
              "    .dataframe thead th {\n",
              "        text-align: right;\n",
              "    }\n",
              "</style>\n",
              "<table border=\"1\" class=\"dataframe\">\n",
              "  <thead>\n",
              "    <tr style=\"text-align: right;\">\n",
              "      <th></th>\n",
              "      <th>File_name</th>\n",
              "      <th>Covid_status</th>\n",
              "      <th>Gender</th>\n",
              "      <th>Nationality</th>\n",
              "    </tr>\n",
              "  </thead>\n",
              "  <tbody>\n",
              "    <tr>\n",
              "      <th>0</th>\n",
              "      <td>ehmkjtFk_cough</td>\n",
              "      <td>?</td>\n",
              "      <td>m</td>\n",
              "      <td>O</td>\n",
              "    </tr>\n",
              "    <tr>\n",
              "      <th>1</th>\n",
              "      <td>UCxrHdoP_cough</td>\n",
              "      <td>?</td>\n",
              "      <td>m</td>\n",
              "      <td>I</td>\n",
              "    </tr>\n",
              "    <tr>\n",
              "      <th>2</th>\n",
              "      <td>afJveyWf_cough</td>\n",
              "      <td>?</td>\n",
              "      <td>f</td>\n",
              "      <td>I</td>\n",
              "    </tr>\n",
              "    <tr>\n",
              "      <th>3</th>\n",
              "      <td>ckgXCsSh_cough</td>\n",
              "      <td>?</td>\n",
              "      <td>m</td>\n",
              "      <td>I</td>\n",
              "    </tr>\n",
              "    <tr>\n",
              "      <th>4</th>\n",
              "      <td>KprOlhNx_cough</td>\n",
              "      <td>?</td>\n",
              "      <td>m</td>\n",
              "      <td>I</td>\n",
              "    </tr>\n",
              "    <tr>\n",
              "      <th>...</th>\n",
              "      <td>...</td>\n",
              "      <td>...</td>\n",
              "      <td>...</td>\n",
              "      <td>...</td>\n",
              "    </tr>\n",
              "    <tr>\n",
              "      <th>228</th>\n",
              "      <td>WxtUSymX_cough</td>\n",
              "      <td>?</td>\n",
              "      <td>f</td>\n",
              "      <td>I</td>\n",
              "    </tr>\n",
              "    <tr>\n",
              "      <th>229</th>\n",
              "      <td>VYFvgWMm_cough</td>\n",
              "      <td>?</td>\n",
              "      <td>f</td>\n",
              "      <td>I</td>\n",
              "    </tr>\n",
              "    <tr>\n",
              "      <th>230</th>\n",
              "      <td>coWKLPUF_cough</td>\n",
              "      <td>?</td>\n",
              "      <td>f</td>\n",
              "      <td>I</td>\n",
              "    </tr>\n",
              "    <tr>\n",
              "      <th>231</th>\n",
              "      <td>XvOqdxQJ_cough</td>\n",
              "      <td>?</td>\n",
              "      <td>m</td>\n",
              "      <td>I</td>\n",
              "    </tr>\n",
              "    <tr>\n",
              "      <th>232</th>\n",
              "      <td>fyfYKFsi_cough</td>\n",
              "      <td>?</td>\n",
              "      <td>m</td>\n",
              "      <td>I</td>\n",
              "    </tr>\n",
              "  </tbody>\n",
              "</table>\n",
              "<p>233 rows × 4 columns</p>\n",
              "</div>"
            ],
            "text/plain": [
              "          File_name Covid_status Gender Nationality\n",
              "0    ehmkjtFk_cough            ?      m           O\n",
              "1    UCxrHdoP_cough            ?      m           I\n",
              "2    afJveyWf_cough            ?      f           I\n",
              "3    ckgXCsSh_cough            ?      m           I\n",
              "4    KprOlhNx_cough            ?      m           I\n",
              "..              ...          ...    ...         ...\n",
              "228  WxtUSymX_cough            ?      f           I\n",
              "229  VYFvgWMm_cough            ?      f           I\n",
              "230  coWKLPUF_cough            ?      f           I\n",
              "231  XvOqdxQJ_cough            ?      m           I\n",
              "232  fyfYKFsi_cough            ?      m           I\n",
              "\n",
              "[233 rows x 4 columns]"
            ]
          },
          "metadata": {
            "tags": []
          },
          "execution_count": 28
        }
      ]
    },
    {
      "cell_type": "code",
      "metadata": {
        "id": "5JFJePUvZkQX"
      },
      "source": [
        "data_path = '/content/gdrive/MyDrive/COVID_cough/data/Evaluations/mfcc15_blind_set.json'"
      ],
      "execution_count": null,
      "outputs": []
    },
    {
      "cell_type": "code",
      "metadata": {
        "id": "nrSSmjCuZpXt"
      },
      "source": [
        "with open(data_path, \"r\") as fp:\n",
        "        data = json.load(fp)\n",
        "        "
      ],
      "execution_count": null,
      "outputs": []
    },
    {
      "cell_type": "code",
      "metadata": {
        "colab": {
          "base_uri": "https://localhost:8080/"
        },
        "id": "CpDb9XziZqts",
        "outputId": "6c6f53bf-c295-46ff-e1e0-8530c9c28cad"
      },
      "source": [
        "X = np.array(data[\"mfcc\"])\n",
        "X=X.reshape(X.shape[0],-1,15,1)\n",
        "X.shape"
      ],
      "execution_count": null,
      "outputs": [
        {
          "output_type": "execute_result",
          "data": {
            "text/plain": [
              "(233, 302, 15, 1)"
            ]
          },
          "metadata": {
            "tags": []
          },
          "execution_count": 31
        }
      ]
    },
    {
      "cell_type": "code",
      "metadata": {
        "id": "gL8bkgOrZtrH"
      },
      "source": [
        "y_pred_probs=model.predict(X)"
      ],
      "execution_count": null,
      "outputs": []
    },
    {
      "cell_type": "code",
      "metadata": {
        "id": "S3AW8ko2ZwW8"
      },
      "source": [
        "y=list(y_pred_probs.reshape(-1))"
      ],
      "execution_count": null,
      "outputs": []
    },
    {
      "cell_type": "code",
      "metadata": {
        "id": "z9pizTaqZxa5"
      },
      "source": [
        "dicto={'File_name':list(df['File_name']),'Probability':y}"
      ],
      "execution_count": null,
      "outputs": []
    },
    {
      "cell_type": "code",
      "metadata": {
        "id": "w08VZrpbZyu8"
      },
      "source": [
        "results=pd.DataFrame(dicto)"
      ],
      "execution_count": null,
      "outputs": []
    },
    {
      "cell_type": "code",
      "metadata": {
        "id": "KvLVa4NIZzrE"
      },
      "source": [
        "results.to_csv('15mfcc_audiomentation_Blind_Set_results.csv',index=False)"
      ],
      "execution_count": null,
      "outputs": []
    },
    {
      "cell_type": "code",
      "metadata": {
        "id": "z_jo8SyEZ3Aq"
      },
      "source": [
        "x=pd.read_csv('15mfcc_audiomentation_Blind_Set_results.csv')"
      ],
      "execution_count": null,
      "outputs": []
    },
    {
      "cell_type": "code",
      "metadata": {
        "colab": {
          "base_uri": "https://localhost:8080/"
        },
        "id": "EvWM3bFkZ5xA",
        "outputId": "29c67403-1a2f-40ee-f328-c6ce50c2322d"
      },
      "source": [
        "type(x['Probability'][0])"
      ],
      "execution_count": null,
      "outputs": [
        {
          "output_type": "execute_result",
          "data": {
            "text/plain": [
              "numpy.float64"
            ]
          },
          "metadata": {
            "tags": []
          },
          "execution_count": 38
        }
      ]
    },
    {
      "cell_type": "markdown",
      "metadata": {
        "id": "YdSkXM16aBnv"
      },
      "source": [
        "Val Folds eval"
      ]
    },
    {
      "cell_type": "code",
      "metadata": {
        "id": "WnSkjI8DaGcB"
      },
      "source": [
        "df=pd.read_csv('/content/gdrive/MyDrive/COVID_cough/Val_set.csv')"
      ],
      "execution_count": null,
      "outputs": []
    },
    {
      "cell_type": "code",
      "metadata": {
        "colab": {
          "base_uri": "https://localhost:8080/",
          "height": 402
        },
        "id": "O-bqzNzpaHc0",
        "outputId": "e6afa4e1-8efe-4599-ea85-6dedcb8e5585"
      },
      "source": [
        "df"
      ],
      "execution_count": null,
      "outputs": [
        {
          "output_type": "execute_result",
          "data": {
            "text/html": [
              "<div>\n",
              "<style scoped>\n",
              "    .dataframe tbody tr th:only-of-type {\n",
              "        vertical-align: middle;\n",
              "    }\n",
              "\n",
              "    .dataframe tbody tr th {\n",
              "        vertical-align: top;\n",
              "    }\n",
              "\n",
              "    .dataframe thead th {\n",
              "        text-align: right;\n",
              "    }\n",
              "</style>\n",
              "<table border=\"1\" class=\"dataframe\">\n",
              "  <thead>\n",
              "    <tr style=\"text-align: right;\">\n",
              "      <th></th>\n",
              "      <th>file_name</th>\n",
              "    </tr>\n",
              "  </thead>\n",
              "  <tbody>\n",
              "    <tr>\n",
              "      <th>0</th>\n",
              "      <td>PQFgfbUS_cough</td>\n",
              "    </tr>\n",
              "    <tr>\n",
              "      <th>1</th>\n",
              "      <td>dpITIaDY_cough</td>\n",
              "    </tr>\n",
              "    <tr>\n",
              "      <th>2</th>\n",
              "      <td>IzXaepIB_cough</td>\n",
              "    </tr>\n",
              "    <tr>\n",
              "      <th>3</th>\n",
              "      <td>ZVKSsFiW_cough</td>\n",
              "    </tr>\n",
              "    <tr>\n",
              "      <th>4</th>\n",
              "      <td>LFqjhpiv_cough</td>\n",
              "    </tr>\n",
              "    <tr>\n",
              "      <th>...</th>\n",
              "      <td>...</td>\n",
              "    </tr>\n",
              "    <tr>\n",
              "      <th>1085</th>\n",
              "      <td>tWjZnGra_cough</td>\n",
              "    </tr>\n",
              "    <tr>\n",
              "      <th>1086</th>\n",
              "      <td>dAlFPhsp_cough</td>\n",
              "    </tr>\n",
              "    <tr>\n",
              "      <th>1087</th>\n",
              "      <td>gjLXOetR_cough</td>\n",
              "    </tr>\n",
              "    <tr>\n",
              "      <th>1088</th>\n",
              "      <td>WJAIhgpc_cough</td>\n",
              "    </tr>\n",
              "    <tr>\n",
              "      <th>1089</th>\n",
              "      <td>FcWxqeAl_cough</td>\n",
              "    </tr>\n",
              "  </tbody>\n",
              "</table>\n",
              "<p>1090 rows × 1 columns</p>\n",
              "</div>"
            ],
            "text/plain": [
              "           file_name\n",
              "0     PQFgfbUS_cough\n",
              "1     dpITIaDY_cough\n",
              "2     IzXaepIB_cough\n",
              "3     ZVKSsFiW_cough\n",
              "4     LFqjhpiv_cough\n",
              "...              ...\n",
              "1085  tWjZnGra_cough\n",
              "1086  dAlFPhsp_cough\n",
              "1087  gjLXOetR_cough\n",
              "1088  WJAIhgpc_cough\n",
              "1089  FcWxqeAl_cough\n",
              "\n",
              "[1090 rows x 1 columns]"
            ]
          },
          "metadata": {
            "tags": []
          },
          "execution_count": 40
        }
      ]
    },
    {
      "cell_type": "code",
      "metadata": {
        "id": "OQmgz1XiaIZH"
      },
      "source": [
        "data_path = '/content/gdrive/MyDrive/COVID_cough/data/Evaluations/mfcc15_val_folds.json'"
      ],
      "execution_count": null,
      "outputs": []
    },
    {
      "cell_type": "code",
      "metadata": {
        "id": "5r4SEi9iaL9i"
      },
      "source": [
        "with open(data_path, \"r\") as fp:\n",
        "        data = json.load(fp)\n",
        "        "
      ],
      "execution_count": null,
      "outputs": []
    },
    {
      "cell_type": "code",
      "metadata": {
        "colab": {
          "base_uri": "https://localhost:8080/"
        },
        "id": "5LgB96t6aN-J",
        "outputId": "d43411aa-c508-4168-9086-d59f946a04fa"
      },
      "source": [
        "X = np.array(data[\"mfcc\"])\n",
        "X=X.reshape(X.shape[0],-1,15,1)\n",
        "X.shape"
      ],
      "execution_count": null,
      "outputs": [
        {
          "output_type": "execute_result",
          "data": {
            "text/plain": [
              "(1090, 302, 15, 1)"
            ]
          },
          "metadata": {
            "tags": []
          },
          "execution_count": 43
        }
      ]
    },
    {
      "cell_type": "code",
      "metadata": {
        "id": "q2UAchlEaRkV"
      },
      "source": [
        "y_pred_probs=model.predict(X)"
      ],
      "execution_count": null,
      "outputs": []
    },
    {
      "cell_type": "code",
      "metadata": {
        "id": "sW4FPmD-aU5j"
      },
      "source": [
        "y=list(y_pred_probs.reshape(-1))"
      ],
      "execution_count": null,
      "outputs": []
    },
    {
      "cell_type": "code",
      "metadata": {
        "id": "grK9DqhJaV2-"
      },
      "source": [
        "dicto={'File_name':list(df['file_name']),'Probability':y}"
      ],
      "execution_count": null,
      "outputs": []
    },
    {
      "cell_type": "code",
      "metadata": {
        "id": "SMtpJPgxaW25"
      },
      "source": [
        "results=pd.DataFrame(dicto)"
      ],
      "execution_count": null,
      "outputs": []
    },
    {
      "cell_type": "code",
      "metadata": {
        "id": "LppJ9ewxaX1o"
      },
      "source": [
        "results.to_csv('15mfcc_audiomentations_val_set_results.csv',index=False)"
      ],
      "execution_count": null,
      "outputs": []
    },
    {
      "cell_type": "code",
      "metadata": {
        "id": "WqY80HG7aZD0"
      },
      "source": [
        "x=pd.read_csv('15mfcc_audiomentations_val_set_results.csv')"
      ],
      "execution_count": null,
      "outputs": []
    },
    {
      "cell_type": "code",
      "metadata": {
        "colab": {
          "base_uri": "https://localhost:8080/"
        },
        "id": "zPjDx8AZakk_",
        "outputId": "3e21ebc6-525d-4476-b2a1-5d3cc2b29a87"
      },
      "source": [
        "type(x['Probability'][0])"
      ],
      "execution_count": null,
      "outputs": [
        {
          "output_type": "execute_result",
          "data": {
            "text/plain": [
              "numpy.float64"
            ]
          },
          "metadata": {
            "tags": []
          },
          "execution_count": 50
        }
      ]
    },
    {
      "cell_type": "code",
      "metadata": {
        "id": "B53ueBbsal9t"
      },
      "source": [
        ""
      ],
      "execution_count": null,
      "outputs": []
    }
  ]
}